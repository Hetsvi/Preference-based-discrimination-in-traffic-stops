{
 "cells": [
  {
   "cell_type": "code",
   "execution_count": 26,
   "metadata": {
    "collapsed": true
   },
   "outputs": [],
   "source": [
    "import pandas as pd\n",
    "import os\n",
    "import matplotlib.pyplot as plt\n",
    "import warnings\n",
    "warnings.filterwarnings('ignore')"
   ]
  },
  {
   "cell_type": "code",
   "execution_count": 27,
   "metadata": {},
   "outputs": [
    {
     "name": "stdout",
     "output_type": "stream",
     "text": [
      "/Users/colerichmond/Documents/GitHub/DSC180B-Capstone\r\n"
     ]
    }
   ],
   "source": [
    "os.chdir('/Users/colerichmond/Documents/GitHub/DSC180B-Capstone')\n",
    "!pwd"
   ]
  },
  {
   "cell_type": "code",
   "execution_count": 28,
   "metadata": {},
   "outputs": [
    {
     "name": "stdout",
     "output_type": "stream",
     "text": [
      "Ingesting data...\n",
      "...done!\n"
     ]
    }
   ],
   "source": [
    "!python run.py data"
   ]
  },
  {
   "cell_type": "code",
   "execution_count": 29,
   "metadata": {},
   "outputs": [
    {
     "name": "stdout",
     "output_type": "stream",
     "text": [
      "/Users/colerichmond/Documents/GitHub/DSC180B-Capstone\r\n"
     ]
    }
   ],
   "source": [
    "!pwd"
   ]
  },
  {
   "cell_type": "code",
   "execution_count": 36,
   "metadata": {},
   "outputs": [
    {
     "data": {
      "text/plain": [
       "white                     445\n",
       "black                      45\n",
       "hispanic                    6\n",
       "other                       2\n",
       "asian/pacific islander      2\n",
       "Name: officer_race, dtype: int64"
      ]
     },
     "execution_count": 36,
     "metadata": {},
     "output_type": "execute_result"
    }
   ],
   "source": [
    "x = pd.read_csv('data/raw/sc_stops.csv')\n",
    "x['officer_race'].value_counts()"
   ]
  },
  {
   "cell_type": "code",
   "execution_count": 40,
   "metadata": {},
   "outputs": [
    {
     "data": {
      "text/plain": [
       "'WA'"
      ]
     },
     "execution_count": 40,
     "metadata": {},
     "output_type": "execute_result"
    }
   ],
   "source": [
    "s = \"wa_stops.csv\"\n",
    "s.split('_')[0].upper()"
   ]
  },
  {
   "cell_type": "code",
   "execution_count": 48,
   "metadata": {
    "collapsed": true
   },
   "outputs": [],
   "source": [
    "def get_clean_stops(pth, df):\n",
    "        \n",
    "    state = pth.split('_')[0].upper()\n",
    "\n",
    "    df = clean_races(df)\n",
    "    df = df[\"county_name\"].apply(clean_county, args=[state])\n",
    "\n",
    "    return df\n",
    "\n",
    "def clean_races(df):\n",
    "\n",
    "    race_map = {\"white\" : \"White\",\n",
    "                \"black\" : \"Black\",\n",
    "                \"hispanic\" : \"Hispanic\",\n",
    "                \"asian/pacific islander\" : \"Asian\"}\n",
    "\n",
    "    df[\"subject_race\"] = df[\"subject_race\"].map(race_map)\n",
    "    df[\"officer_race\"] = df[\"officer_race\"].map(race_map)\n",
    "    \n",
    "    return df\n",
    "\n",
    "def clean_county(county, state):\n",
    "\n",
    "    county = state\n",
    "    \n",
    "    return county"
   ]
  },
  {
   "cell_type": "code",
   "execution_count": 49,
   "metadata": {},
   "outputs": [
    {
     "data": {
      "text/plain": [
       "0      SC\n",
       "1      SC\n",
       "2      SC\n",
       "3      SC\n",
       "4      SC\n",
       "       ..\n",
       "495    SC\n",
       "496    SC\n",
       "497    SC\n",
       "498    SC\n",
       "499    SC\n",
       "Name: county_name, Length: 500, dtype: object"
      ]
     },
     "execution_count": 49,
     "metadata": {},
     "output_type": "execute_result"
    }
   ],
   "source": [
    "get_clean_stops('sc_stops.csv', x)"
   ]
  },
  {
   "cell_type": "code",
   "execution_count": null,
   "metadata": {
    "collapsed": true
   },
   "outputs": [],
   "source": []
  }
 ],
 "metadata": {
  "kernelspec": {
   "display_name": "Python 3",
   "language": "python",
   "name": "python3"
  },
  "language_info": {
   "codemirror_mode": {
    "name": "ipython",
    "version": 3
   },
   "file_extension": ".py",
   "mimetype": "text/x-python",
   "name": "python",
   "nbconvert_exporter": "python",
   "pygments_lexer": "ipython3",
   "version": "3.6.8"
  }
 },
 "nbformat": 4,
 "nbformat_minor": 2
}
