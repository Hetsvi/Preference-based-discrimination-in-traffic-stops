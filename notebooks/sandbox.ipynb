{
 "cells": [
  {
   "cell_type": "code",
   "execution_count": 1,
   "metadata": {
    "collapsed": true
   },
   "outputs": [],
   "source": [
    "import pandas as pd\n",
    "import os\n",
    "import matplotlib.pyplot as plt\n",
    "import warnings\n",
    "warnings.filterwarnings('ignore')"
   ]
  },
  {
   "cell_type": "code",
   "execution_count": 2,
   "metadata": {},
   "outputs": [
    {
     "name": "stdout",
     "output_type": "stream",
     "text": [
      "/Users/colerichmond/Documents/GitHub/DSC180B-Capstone\r\n"
     ]
    }
   ],
   "source": [
    "os.chdir('/Users/colerichmond/Documents/GitHub/DSC180B-Capstone')\n",
    "!pwd"
   ]
  },
  {
   "cell_type": "code",
   "execution_count": 5,
   "metadata": {},
   "outputs": [
    {
     "name": "stdout",
     "output_type": "stream",
     "text": [
      "Ingesting data...\n",
      "...done!\n",
      "Cleaning data...\n",
      "Traceback (most recent call last):\n",
      "  File \"/Users/colerichmond/anaconda3/lib/python3.6/site-packages/pandas/core/indexes/base.py\", line 2897, in get_loc\n",
      "    return self._engine.get_loc(key)\n",
      "  File \"pandas/_libs/index.pyx\", line 107, in pandas._libs.index.IndexEngine.get_loc\n",
      "  File \"pandas/_libs/index.pyx\", line 131, in pandas._libs.index.IndexEngine.get_loc\n",
      "  File \"pandas/_libs/hashtable_class_helper.pxi\", line 1607, in pandas._libs.hashtable.PyObjectHashTable.get_item\n",
      "  File \"pandas/_libs/hashtable_class_helper.pxi\", line 1614, in pandas._libs.hashtable.PyObjectHashTable.get_item\n",
      "KeyError: 'date'\n",
      "\n",
      "During handling of the above exception, another exception occurred:\n",
      "\n",
      "Traceback (most recent call last):\n",
      "  File \"run.py\", line 55, in <module>\n",
      "    main(targets)\n",
      "  File \"run.py\", line 38, in main\n",
      "    clean_stops(**cfg)\n",
      "  File \"src/etl.py\", line 213, in clean_stops\n",
      "    cleaned = get_clean_stops(pth, df)\n",
      "  File \"src/etl.py\", line 47, in get_clean_stops\n",
      "    df = convert_date(df)\n",
      "  File \"src/etl.py\", line 72, in convert_date\n",
      "    df['date'] = pd.to_datetime(df['date'], format=\"%Y-%m-%d\", errors='coerce')\n",
      "  File \"/Users/colerichmond/anaconda3/lib/python3.6/site-packages/pandas/core/frame.py\", line 2995, in __getitem__\n",
      "    indexer = self.columns.get_loc(key)\n",
      "  File \"/Users/colerichmond/anaconda3/lib/python3.6/site-packages/pandas/core/indexes/base.py\", line 2899, in get_loc\n",
      "    return self._engine.get_loc(self._maybe_cast_indexer(key))\n",
      "  File \"pandas/_libs/index.pyx\", line 107, in pandas._libs.index.IndexEngine.get_loc\n",
      "  File \"pandas/_libs/index.pyx\", line 131, in pandas._libs.index.IndexEngine.get_loc\n",
      "  File \"pandas/_libs/hashtable_class_helper.pxi\", line 1607, in pandas._libs.hashtable.PyObjectHashTable.get_item\n",
      "  File \"pandas/_libs/hashtable_class_helper.pxi\", line 1614, in pandas._libs.hashtable.PyObjectHashTable.get_item\n",
      "KeyError: 'date'\n"
     ]
    }
   ],
   "source": [
    "!python run.py data"
   ]
  },
  {
   "cell_type": "code",
   "execution_count": null,
   "metadata": {},
   "outputs": [],
   "source": [
    "pd.read_csv('https://stacks.stanford.edu/file/druid:kx738rc7407/kx738rc7407_fl_statewide_2019_12_17.csv.zip', nrows=100)"
   ]
  },
  {
   "cell_type": "code",
   "execution_count": 7,
   "metadata": {},
   "outputs": [
    {
     "ename": "SyntaxError",
     "evalue": "can't assign to literal (<ipython-input-7-8dacc9c85351>, line 1)",
     "output_type": "error",
     "traceback": [
      "\u001b[0;36m  File \u001b[0;32m\"<ipython-input-7-8dacc9c85351>\"\u001b[0;36m, line \u001b[0;32m1\u001b[0m\n\u001b[0;31m    \"sc_cols\" = [\u001b[0m\n\u001b[0m                 ^\u001b[0m\n\u001b[0;31mSyntaxError\u001b[0m\u001b[0;31m:\u001b[0m can't assign to literal\n"
     ]
    }
   ],
   "source": [
    "\"sc_cols\" = [\"county_name\",\n",
    "             \"subject_age\"\n",
    "   ]\n",
    "\"fl_cols\" = [\n",
    "      \"county_name\",\n",
    "      \"officer_sex\",\n",
    "      \"officer_years_of_service\",\n",
    "      \"subject_age\",\n",
    "      \"time\",\n",
    "      \"vehicle_registration_state\"\n",
    "   ]\n",
    "\"pa_cols\" = [\n",
    "      \"time\",\n",
    "      \"lat\",\n",
    "      \"lng\",\n",
    "      \"officer_sex\",\n",
    "      \"contraband_found\"\n",
    "   ]"
   ]
  },
  {
   "cell_type": "code",
   "execution_count": null,
   "metadata": {
    "collapsed": true
   },
   "outputs": [],
   "source": [
    "all_cols = [\n",
    "      \"subject_race\",\n",
    "      \"subject_sex\",\n",
    "      \"officer_race\",\n",
    "      \"officer_age\",\n",
    "      \"violation\",\n",
    "      \"arrest_made\",\n",
    "      \"citation_issued\",\n",
    "      \"search_conducted\"\n",
    "   ]"
   ]
  },
  {
   "cell_type": "code",
   "execution_count": null,
   "metadata": {},
   "outputs": [],
   "source": [
    "def get_stops_url(location, all_cols, sc_cols, fl_cols, pa_cols):\n",
    "    '''\n",
    "    return a downloadable file of traffic\n",
    "    stops for a given year before RIPA.\n",
    "    \n",
    "    :param: given year to fetch\n",
    "    '''\n",
    "    \n",
    "    if location is \"pa\":\n",
    "        url = 'https://stacks.stanford.edu/file/druid:yg821jf8611/yg821jf8611_pa_pittsburgh_2020_04_01.csv.zip'\n",
    "        cols = all_cols + pa_cols\n",
    "    else:\n",
    "        url = 'https://stacks.stanford.edu/file/druid:kx738rc7407/kx738rc7407_%s_statewide_2019_12_17.csv.zip' % (location)\n",
    "        if location is \"sc\":  \n",
    "            cols = all_cols + sc_cols\n",
    "        if location is \"fl\":\n",
    "            cols = all_cols + fl_cols\n",
    "\n",
    "    return pd.read_csv(url, nrows=100).loc[:, cols]"
   ]
  },
  {
   "cell_type": "code",
   "execution_count": null,
   "metadata": {},
   "outputs": [],
   "source": [
    "for location in [\"pa\", \"fl\", \"sc\"]:\n",
    "    table = get_stops_url(location, all_cols)\n",
    "    file_name = '%s_stops.csv' % (location)\n",
    "    table.to_csv(os.path.join(\"data/raw\", file_name))"
   ]
  },
  {
   "cell_type": "code",
   "execution_count": null,
   "metadata": {
    "collapsed": true
   },
   "outputs": [],
   "source": []
  }
 ],
 "metadata": {
  "kernelspec": {
   "display_name": "Python 3",
   "language": "python",
   "name": "python3"
  },
  "language_info": {
   "codemirror_mode": {
    "name": "ipython",
    "version": 3
   },
   "file_extension": ".py",
   "mimetype": "text/x-python",
   "name": "python",
   "nbconvert_exporter": "python",
   "pygments_lexer": "ipython3",
   "version": "3.6.8"
  }
 },
 "nbformat": 4,
 "nbformat_minor": 2
}
