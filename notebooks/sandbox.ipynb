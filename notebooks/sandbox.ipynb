{
 "cells": [
  {
   "cell_type": "code",
   "execution_count": 1,
   "metadata": {
    "collapsed": true
   },
   "outputs": [],
   "source": [
    "import pandas as pd\n",
    "import os\n",
    "import matplotlib.pyplot as plt\n",
    "import warnings\n",
    "warnings.filterwarnings('ignore')"
   ]
  },
  {
   "cell_type": "code",
   "execution_count": 2,
   "metadata": {},
   "outputs": [
    {
     "name": "stdout",
     "output_type": "stream",
     "text": [
      "/Users/colerichmond/Documents/GitHub/DSC180B-Capstone\r\n"
     ]
    }
   ],
   "source": [
    "os.chdir('/Users/colerichmond/Documents/GitHub/DSC180B-Capstone')\n",
    "!pwd"
   ]
  },
  {
   "cell_type": "code",
   "execution_count": 14,
   "metadata": {},
   "outputs": [
    {
     "name": "stdout",
     "output_type": "stream",
     "text": [
      "Ingesting data...\n",
      "...done!\n",
      "Cleaning data...\n",
      "...done!\n"
     ]
    }
   ],
   "source": [
    "!python run.py data"
   ]
  },
  {
   "cell_type": "code",
   "execution_count": 3,
   "metadata": {},
   "outputs": [],
   "source": [
    "sc_cols = [\"county_name\",\n",
    "             \"subject_age\"]\n",
    "fl_cols = [\n",
    "      \"county_name\",\n",
    "      \"officer_sex\",\n",
    "      \"officer_years_of_service\",\n",
    "      \"subject_age\",\n",
    "      \"time\",\n",
    "      \"vehicle_registration_state\"\n",
    "   ]\n",
    "pa_cols = [\n",
    "      \"time\",\n",
    "      \"lat\",\n",
    "      \"lng\",\n",
    "      \"officer_sex\",\n",
    "      \"contraband_found\"\n",
    "   ]"
   ]
  },
  {
   "cell_type": "code",
   "execution_count": 4,
   "metadata": {
    "collapsed": true
   },
   "outputs": [],
   "source": [
    "all_cols = [\n",
    "      \"subject_race\",\n",
    "      \"subject_sex\",\n",
    "      \"officer_race\",\n",
    "      \"officer_age\",\n",
    "      \"violation\",\n",
    "      \"arrest_made\",\n",
    "      \"citation_issued\",\n",
    "      \"search_conducted\"\n",
    "   ]"
   ]
  },
  {
   "cell_type": "code",
   "execution_count": 8,
   "metadata": {},
   "outputs": [],
   "source": [
    "def get_stops_url(location, all_cols, sc_cols, fl_cols, pa_cols):\n",
    "    '''\n",
    "    return a downloadable file of traffic\n",
    "    stops for a given year before RIPA.\n",
    "    \n",
    "    :param: given year to fetch\n",
    "    '''\n",
    "    \n",
    "    if not os.path.exists('data/raw'):\n",
    "        os.makedirs('data/raw')\n",
    "        \n",
    "    if location is \"pa\":\n",
    "        url = 'https://stacks.stanford.edu/file/druid:yg821jf8611/yg821jf8611_pa_pittsburgh_2020_04_01.csv.zip'\n",
    "        cols = all_cols + pa_cols\n",
    "        table = pd.read_csv(url, nrows=100).loc[:, cols].dropna()\n",
    "    else:\n",
    "        url = 'https://stacks.stanford.edu/file/druid:kx738rc7407/kx738rc7407_%s_statewide_2019_12_17.csv.zip' % (location)\n",
    "        if location is \"sc\":  \n",
    "            cols = all_cols + sc_cols\n",
    "            table = pd.read_csv(url, nrows=100).loc[:, cols]\n",
    "            cols.remove(\"violation\")\n",
    "            table = table.dropna(subset=cols)\n",
    "        if location is \"fl\":\n",
    "            cols = all_cols + fl_cols\n",
    "            table = pd.read_csv(url, nrows=100).loc[:, cols].dropna()\n",
    "\n",
    "    return table"
   ]
  },
  {
   "cell_type": "code",
   "execution_count": 9,
   "metadata": {},
   "outputs": [],
   "source": [
    "for location in [\"pa\", \"fl\", \"sc\"]:\n",
    "    table = get_stops_url(location, all_cols, sc_cols, fl_cols, pa_cols)\n",
    "    file_name = '%s_stops.csv' % (location)\n",
    "    table.to_csv(os.path.join(\"data/raw\", file_name))"
   ]
  },
  {
   "cell_type": "code",
   "execution_count": 10,
   "metadata": {},
   "outputs": [
    {
     "name": "stdout",
     "output_type": "stream",
     "text": [
      "/Users/colerichmond/Documents/GitHub/DSC180B-Capstone\r\n"
     ]
    }
   ],
   "source": [
    "!pwd"
   ]
  },
  {
   "cell_type": "code",
   "execution_count": 11,
   "metadata": {},
   "outputs": [
    {
     "data": {
      "text/html": [
       "<div>\n",
       "<style scoped>\n",
       "    .dataframe tbody tr th:only-of-type {\n",
       "        vertical-align: middle;\n",
       "    }\n",
       "\n",
       "    .dataframe tbody tr th {\n",
       "        vertical-align: top;\n",
       "    }\n",
       "\n",
       "    .dataframe thead th {\n",
       "        text-align: right;\n",
       "    }\n",
       "</style>\n",
       "<table border=\"1\" class=\"dataframe\">\n",
       "  <thead>\n",
       "    <tr style=\"text-align: right;\">\n",
       "      <th></th>\n",
       "      <th>Unnamed: 0</th>\n",
       "      <th>subject_race</th>\n",
       "      <th>subject_sex</th>\n",
       "      <th>officer_race</th>\n",
       "      <th>officer_age</th>\n",
       "      <th>violation</th>\n",
       "      <th>arrest_made</th>\n",
       "      <th>citation_issued</th>\n",
       "      <th>search_conducted</th>\n",
       "      <th>county_name</th>\n",
       "      <th>subject_age</th>\n",
       "    </tr>\n",
       "  </thead>\n",
       "  <tbody>\n",
       "    <tr>\n",
       "      <th>0</th>\n",
       "      <td>0</td>\n",
       "      <td>white</td>\n",
       "      <td>male</td>\n",
       "      <td>white</td>\n",
       "      <td>28.0</td>\n",
       "      <td>56-10-225 Other Violations</td>\n",
       "      <td>False</td>\n",
       "      <td>True</td>\n",
       "      <td>False</td>\n",
       "      <td>Georgetown County</td>\n",
       "      <td>33</td>\n",
       "    </tr>\n",
       "    <tr>\n",
       "      <th>1</th>\n",
       "      <td>1</td>\n",
       "      <td>white</td>\n",
       "      <td>male</td>\n",
       "      <td>white</td>\n",
       "      <td>34.0</td>\n",
       "      <td>NaN</td>\n",
       "      <td>False</td>\n",
       "      <td>False</td>\n",
       "      <td>False</td>\n",
       "      <td>Anderson County</td>\n",
       "      <td>17</td>\n",
       "    </tr>\n",
       "    <tr>\n",
       "      <th>2</th>\n",
       "      <td>2</td>\n",
       "      <td>white</td>\n",
       "      <td>male</td>\n",
       "      <td>white</td>\n",
       "      <td>44.0</td>\n",
       "      <td>56-5-1520 Speeding or Too Fast For Conditions ...</td>\n",
       "      <td>False</td>\n",
       "      <td>True</td>\n",
       "      <td>False</td>\n",
       "      <td>Greenville County</td>\n",
       "      <td>68</td>\n",
       "    </tr>\n",
       "    <tr>\n",
       "      <th>3</th>\n",
       "      <td>3</td>\n",
       "      <td>black</td>\n",
       "      <td>female</td>\n",
       "      <td>white</td>\n",
       "      <td>31.0</td>\n",
       "      <td>56-5-1520 Speeding or Too Fast For Conditions ...</td>\n",
       "      <td>False</td>\n",
       "      <td>True</td>\n",
       "      <td>False</td>\n",
       "      <td>Spartanburg County</td>\n",
       "      <td>27</td>\n",
       "    </tr>\n",
       "    <tr>\n",
       "      <th>4</th>\n",
       "      <td>4</td>\n",
       "      <td>white</td>\n",
       "      <td>male</td>\n",
       "      <td>black</td>\n",
       "      <td>32.0</td>\n",
       "      <td>56-5-1520 Speeding or Too Fast For Conditions ...</td>\n",
       "      <td>False</td>\n",
       "      <td>True</td>\n",
       "      <td>False</td>\n",
       "      <td>Darlington County</td>\n",
       "      <td>29</td>\n",
       "    </tr>\n",
       "    <tr>\n",
       "      <th>...</th>\n",
       "      <td>...</td>\n",
       "      <td>...</td>\n",
       "      <td>...</td>\n",
       "      <td>...</td>\n",
       "      <td>...</td>\n",
       "      <td>...</td>\n",
       "      <td>...</td>\n",
       "      <td>...</td>\n",
       "      <td>...</td>\n",
       "      <td>...</td>\n",
       "      <td>...</td>\n",
       "    </tr>\n",
       "    <tr>\n",
       "      <th>94</th>\n",
       "      <td>95</td>\n",
       "      <td>white</td>\n",
       "      <td>male</td>\n",
       "      <td>white</td>\n",
       "      <td>49.0</td>\n",
       "      <td>56-5-1520 Speeding or Too Fast For Conditions ...</td>\n",
       "      <td>False</td>\n",
       "      <td>True</td>\n",
       "      <td>False</td>\n",
       "      <td>Spartanburg County</td>\n",
       "      <td>36</td>\n",
       "    </tr>\n",
       "    <tr>\n",
       "      <th>95</th>\n",
       "      <td>96</td>\n",
       "      <td>white</td>\n",
       "      <td>female</td>\n",
       "      <td>white</td>\n",
       "      <td>30.0</td>\n",
       "      <td>56-1-460 Driving Under Suspension</td>\n",
       "      <td>False</td>\n",
       "      <td>True</td>\n",
       "      <td>False</td>\n",
       "      <td>Charleston County</td>\n",
       "      <td>26</td>\n",
       "    </tr>\n",
       "    <tr>\n",
       "      <th>96</th>\n",
       "      <td>97</td>\n",
       "      <td>white</td>\n",
       "      <td>male</td>\n",
       "      <td>black</td>\n",
       "      <td>28.0</td>\n",
       "      <td>NaN</td>\n",
       "      <td>False</td>\n",
       "      <td>False</td>\n",
       "      <td>False</td>\n",
       "      <td>Orangeburg County</td>\n",
       "      <td>29</td>\n",
       "    </tr>\n",
       "    <tr>\n",
       "      <th>97</th>\n",
       "      <td>98</td>\n",
       "      <td>white</td>\n",
       "      <td>female</td>\n",
       "      <td>white</td>\n",
       "      <td>38.0</td>\n",
       "      <td>NaN</td>\n",
       "      <td>False</td>\n",
       "      <td>False</td>\n",
       "      <td>False</td>\n",
       "      <td>Marion County</td>\n",
       "      <td>29</td>\n",
       "    </tr>\n",
       "    <tr>\n",
       "      <th>98</th>\n",
       "      <td>99</td>\n",
       "      <td>black</td>\n",
       "      <td>male</td>\n",
       "      <td>black</td>\n",
       "      <td>30.0</td>\n",
       "      <td>56-1-460 Driving Under Suspension</td>\n",
       "      <td>False</td>\n",
       "      <td>True</td>\n",
       "      <td>False</td>\n",
       "      <td>Richland County</td>\n",
       "      <td>20</td>\n",
       "    </tr>\n",
       "  </tbody>\n",
       "</table>\n",
       "<p>99 rows × 11 columns</p>\n",
       "</div>"
      ],
      "text/plain": [
       "    Unnamed: 0 subject_race subject_sex officer_race  officer_age  \\\n",
       "0            0        white        male        white         28.0   \n",
       "1            1        white        male        white         34.0   \n",
       "2            2        white        male        white         44.0   \n",
       "3            3        black      female        white         31.0   \n",
       "4            4        white        male        black         32.0   \n",
       "..         ...          ...         ...          ...          ...   \n",
       "94          95        white        male        white         49.0   \n",
       "95          96        white      female        white         30.0   \n",
       "96          97        white        male        black         28.0   \n",
       "97          98        white      female        white         38.0   \n",
       "98          99        black        male        black         30.0   \n",
       "\n",
       "                                            violation  arrest_made  \\\n",
       "0                          56-10-225 Other Violations        False   \n",
       "1                                                 NaN        False   \n",
       "2   56-5-1520 Speeding or Too Fast For Conditions ...        False   \n",
       "3   56-5-1520 Speeding or Too Fast For Conditions ...        False   \n",
       "4   56-5-1520 Speeding or Too Fast For Conditions ...        False   \n",
       "..                                                ...          ...   \n",
       "94  56-5-1520 Speeding or Too Fast For Conditions ...        False   \n",
       "95                  56-1-460 Driving Under Suspension        False   \n",
       "96                                                NaN        False   \n",
       "97                                                NaN        False   \n",
       "98                  56-1-460 Driving Under Suspension        False   \n",
       "\n",
       "    citation_issued  search_conducted         county_name  subject_age  \n",
       "0              True             False   Georgetown County           33  \n",
       "1             False             False     Anderson County           17  \n",
       "2              True             False   Greenville County           68  \n",
       "3              True             False  Spartanburg County           27  \n",
       "4              True             False   Darlington County           29  \n",
       "..              ...               ...                 ...          ...  \n",
       "94             True             False  Spartanburg County           36  \n",
       "95             True             False   Charleston County           26  \n",
       "96            False             False   Orangeburg County           29  \n",
       "97            False             False       Marion County           29  \n",
       "98             True             False     Richland County           20  \n",
       "\n",
       "[99 rows x 11 columns]"
      ]
     },
     "execution_count": 11,
     "metadata": {},
     "output_type": "execute_result"
    }
   ],
   "source": [
    "pd.read_csv('data/raw/sc_stops.csv')"
   ]
  },
  {
   "cell_type": "code",
   "execution_count": null,
   "metadata": {},
   "outputs": [],
   "source": [
    "cols = all_cols + sc_cols\n",
    "cols.remove(\"violation\")\n",
    "cols\n",
    "table = table.dropna(subset=cols)\n",
    "table"
   ]
  },
  {
   "cell_type": "code",
   "execution_count": 12,
   "metadata": {},
   "outputs": [
    {
     "data": {
      "text/plain": [
       "['pa_stops.csv', 'fl_stops.csv', 'sc_stops.csv']"
      ]
     },
     "execution_count": 12,
     "metadata": {},
     "output_type": "execute_result"
    }
   ],
   "source": [
    "os.listdir('data/raw')"
   ]
  },
  {
   "cell_type": "code",
   "execution_count": null,
   "metadata": {
    "collapsed": true
   },
   "outputs": [],
   "source": []
  }
 ],
 "metadata": {
  "kernelspec": {
   "display_name": "Python 3",
   "language": "python",
   "name": "python3"
  },
  "language_info": {
   "codemirror_mode": {
    "name": "ipython",
    "version": 3
   },
   "file_extension": ".py",
   "mimetype": "text/x-python",
   "name": "python",
   "nbconvert_exporter": "python",
   "pygments_lexer": "ipython3",
   "version": "3.6.8"
  }
 },
 "nbformat": 4,
 "nbformat_minor": 2
}
